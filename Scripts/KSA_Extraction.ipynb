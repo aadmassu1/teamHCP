{
 "cells": [
  {
   "cell_type": "code",
   "execution_count": 366,
   "metadata": {},
   "outputs": [],
   "source": [
    "# # Installing necessary dependencies\n",
    "import sys\n",
    "# !conda install --yes --prefix {sys.prefix} PIL\n",
    "# # !{sys.executable} -m pip install ____\n",
    "\n",
    "# !pip install openpyxl\n",
    "# !{sys.executable} -m pip install pytesseract\n",
    "# !{sys.executable} -m pip install pillow\n",
    "# !{sys.executable} -m pip install python-poppler\n",
    "# !{sys.executable} -m pip install opencv-python\n",
    "# !{sys.executable} -m pip install --upgrade pip\n",
    "# !conda install -c conda-forge poppler\n",
    "\n",
    "# !{sys.executable} -m pip install scipy\n",
    "# !{sys.executable} -m pip install sklearn\n",
    "# !{sys.executable} -m pip install matplotlib\n",
    "# !{sys.executable} -m pip install nltk\n",
    "# !{sys.executable} -m pip install pandas\n"
   ]
  },
  {
   "cell_type": "code",
   "execution_count": 80,
   "metadata": {},
   "outputs": [],
   "source": [
    "# Checking which environment we are working in\n",
    "# !conda info --envs # check which env we are in\n",
    "# !conda activate HCP-env # Activate the right environment"
   ]
  },
  {
   "cell_type": "code",
   "execution_count": 78,
   "metadata": {},
   "outputs": [],
   "source": [
    "# Below, I try to do some text processing and tokenization to see word frequencies\n",
    "\n",
    "import codecs\n",
    "import re\n",
    "import copy\n",
    "import collections\n",
    "\n",
    "import numpy as np\n",
    "import pandas as pd\n",
    "import nltk\n",
    "from nltk.stem import PorterStemmer\n",
    "from nltk.tokenize import WordPunctTokenizer\n",
    "from __future__ import division\n",
    "import matplotlib\n",
    "import json\n"
   ]
  },
  {
   "cell_type": "code",
   "execution_count": 14,
   "metadata": {},
   "outputs": [
    {
     "name": "stderr",
     "output_type": "stream",
     "text": [
      "[nltk_data] Downloading package stopwords to\n",
      "[nltk_data]     C:\\Users\\15713\\AppData\\Roaming\\nltk_data...\n",
      "[nltk_data]   Package stopwords is already up-to-date!\n"
     ]
    },
    {
     "data": {
      "text/plain": [
       "True"
      ]
     },
     "execution_count": 14,
     "metadata": {},
     "output_type": "execute_result"
    }
   ],
   "source": [
    "nltk.download('stopwords') # downloads all stopwords to avoid"
   ]
  },
  {
   "cell_type": "code",
   "execution_count": 3,
   "metadata": {},
   "outputs": [],
   "source": [
    "from nltk.corpus import stopwords "
   ]
  },
  {
   "cell_type": "code",
   "execution_count": 18,
   "metadata": {},
   "outputs": [
    {
     "name": "stderr",
     "output_type": "stream",
     "text": [
      "[nltk_data] Downloading package punkt to\n",
      "[nltk_data]     C:\\Users\\15713\\AppData\\Roaming\\nltk_data...\n",
      "[nltk_data]   Package punkt is already up-to-date!\n"
     ]
    },
    {
     "data": {
      "text/plain": [
       "True"
      ]
     },
     "execution_count": 18,
     "metadata": {},
     "output_type": "execute_result"
    }
   ],
   "source": [
    "nltk.download('punkt') # downloads the tokenizer we need"
   ]
  },
  {
   "cell_type": "code",
   "execution_count": 6,
   "metadata": {},
   "outputs": [],
   "source": [
    "# Function to tokenize a text file into sentences or phrases\n",
    "tokenizer = nltk.data.load('tokenizers/punkt/english.pickle')\n",
    "\n",
    "def get_sentence_counter(path=None, text=None):\n",
    "    if path:\n",
    "        path = os.getcwd()\n",
    "        for file in os.listdir():\n",
    "            if file.endswith('.txt'):\n",
    "                with codecs.open(file, 'r') as f: \n",
    "                    text = f.read()\n",
    "    else:\n",
    "        text = text\n",
    "    raw_sentences = tokenizer.tokenize(text)\n",
    "    sentences = []\n",
    "    for raw_sentence in raw_sentences:\n",
    "        tmp = raw_sentence.split('\\n')\n",
    "        for x in tmp:\n",
    "            sentences.append(x)\n",
    "\n",
    "    return sentences, len(sentences)"
   ]
  },
  {
   "cell_type": "code",
   "execution_count": null,
   "metadata": {},
   "outputs": [],
   "source": [
    "################################################################################\n",
    "################################################################################\n",
    "################################################################################\n",
    "# INDEED"
   ]
  },
  {
   "cell_type": "code",
   "execution_count": 242,
   "metadata": {},
   "outputs": [],
   "source": [
    "# Working with 'Master_Indeed_Dataset'\n",
    "path = os.path.join(os.getcwd(), 'Master_Indeed_Dataset.xlsx')\n",
    "df = pd.read_excel(path)"
   ]
  },
  {
   "cell_type": "code",
   "execution_count": 243,
   "metadata": {},
   "outputs": [
    {
     "data": {
      "text/html": [
       "<div>\n",
       "<style scoped>\n",
       "    .dataframe tbody tr th:only-of-type {\n",
       "        vertical-align: middle;\n",
       "    }\n",
       "\n",
       "    .dataframe tbody tr th {\n",
       "        vertical-align: top;\n",
       "    }\n",
       "\n",
       "    .dataframe thead th {\n",
       "        text-align: right;\n",
       "    }\n",
       "</style>\n",
       "<table border=\"1\" class=\"dataframe\">\n",
       "  <thead>\n",
       "    <tr style=\"text-align: right;\">\n",
       "      <th></th>\n",
       "      <th>Title</th>\n",
       "      <th>Company</th>\n",
       "      <th>Location</th>\n",
       "      <th>Links</th>\n",
       "      <th>Salary</th>\n",
       "      <th>Description</th>\n",
       "    </tr>\n",
       "  </thead>\n",
       "  <tbody>\n",
       "    <tr>\n",
       "      <th>0</th>\n",
       "      <td>JUNIOR PENETRATION TESTER</td>\n",
       "      <td>Elevate</td>\n",
       "      <td>Remote</td>\n",
       "      <td>https://indeed.com/viewjob...</td>\n",
       "      <td>$35 - $50 an hour</td>\n",
       "      <td>JUNIOR PENETRATION TESTER\\...</td>\n",
       "    </tr>\n",
       "    <tr>\n",
       "      <th>1</th>\n",
       "      <td>Junior Penetration Tester ...</td>\n",
       "      <td>BreachLock</td>\n",
       "      <td>Floridaâ€¢Remote</td>\n",
       "      <td>https://indeed.com/viewjob...</td>\n",
       "      <td>None</td>\n",
       "      <td>The Penetration Testing pr...</td>\n",
       "    </tr>\n",
       "    <tr>\n",
       "      <th>2</th>\n",
       "      <td>Red Team - Penetration Tester</td>\n",
       "      <td>Simplicity, LLC.</td>\n",
       "      <td>Remote</td>\n",
       "      <td>https://indeed.com/viewjob...</td>\n",
       "      <td>$75,000 - $90,000 a year</td>\n",
       "      <td>Who are we?\\nBreachLock is...</td>\n",
       "    </tr>\n",
       "    <tr>\n",
       "      <th>3</th>\n",
       "      <td>Penetration Tester</td>\n",
       "      <td>Creative Visions</td>\n",
       "      <td>Washington, DCâ€¢Remote</td>\n",
       "      <td>https://indeed.com/viewjob...</td>\n",
       "      <td>None</td>\n",
       "      <td>Fort Mill, SC, Carrollton ...</td>\n",
       "    </tr>\n",
       "    <tr>\n",
       "      <th>4</th>\n",
       "      <td>Penetration Tester</td>\n",
       "      <td>TechTrueUP</td>\n",
       "      <td>Remote</td>\n",
       "      <td>https://indeed.com/viewjob...</td>\n",
       "      <td>$45 - $50 an hour</td>\n",
       "      <td>Summary:\\nThe Penetration ...</td>\n",
       "    </tr>\n",
       "    <tr>\n",
       "      <th>5</th>\n",
       "      <td>Penetration Tester (remote)</td>\n",
       "      <td>Fast AF</td>\n",
       "      <td>San Francisco, CAâ€¢Remote</td>\n",
       "      <td>https://indeed.com/viewjob...</td>\n",
       "      <td>None</td>\n",
       "      <td>Job Details:\\nIn this vita...</td>\n",
       "    </tr>\n",
       "  </tbody>\n",
       "</table>\n",
       "</div>"
      ],
      "text/plain": [
       "                           Title           Company  \\\n",
       "0      JUNIOR PENETRATION TESTER           Elevate   \n",
       "1  Junior Penetration Tester ...        BreachLock   \n",
       "2  Red Team - Penetration Tester  Simplicity, LLC.   \n",
       "3             Penetration Tester  Creative Visions   \n",
       "4             Penetration Tester        TechTrueUP   \n",
       "5    Penetration Tester (remote)           Fast AF   \n",
       "\n",
       "                     Location                          Links  \\\n",
       "0                      Remote  https://indeed.com/viewjob...   \n",
       "1            Floridaâ€¢Remote  https://indeed.com/viewjob...   \n",
       "2                      Remote  https://indeed.com/viewjob...   \n",
       "3     Washington, DCâ€¢Remote  https://indeed.com/viewjob...   \n",
       "4                      Remote  https://indeed.com/viewjob...   \n",
       "5  San Francisco, CAâ€¢Remote  https://indeed.com/viewjob...   \n",
       "\n",
       "                     Salary                    Description  \n",
       "0         $35 - $50 an hour  JUNIOR PENETRATION TESTER\\...  \n",
       "1                      None  The Penetration Testing pr...  \n",
       "2  $75,000 - $90,000 a year  Who are we?\\nBreachLock is...  \n",
       "3                      None  Fort Mill, SC, Carrollton ...  \n",
       "4         $45 - $50 an hour  Summary:\\nThe Penetration ...  \n",
       "5                      None  Job Details:\\nIn this vita...  "
      ]
     },
     "execution_count": 243,
     "metadata": {},
     "output_type": "execute_result"
    }
   ],
   "source": [
    "df.head(6)"
   ]
  },
  {
   "cell_type": "code",
   "execution_count": 244,
   "metadata": {},
   "outputs": [],
   "source": [
    "# Creating a dataframe with title as index and description as an attribute\n",
    "title, description = df['Title'].to_list(), df['Description'].to_list()\n",
    "indeed_df = pd.DataFrame(data={\"Title\": title,\n",
    "                               \"Description\": description} \n",
    "                         )\n",
    "# removing rows with 'None' for their Job-Title\n",
    "indeed_df = indeed_df[indeed_df.Title != 'None']"
   ]
  },
  {
   "cell_type": "code",
   "execution_count": 245,
   "metadata": {
    "scrolled": true
   },
   "outputs": [
    {
     "data": {
      "text/html": [
       "<div>\n",
       "<style scoped>\n",
       "    .dataframe tbody tr th:only-of-type {\n",
       "        vertical-align: middle;\n",
       "    }\n",
       "\n",
       "    .dataframe tbody tr th {\n",
       "        vertical-align: top;\n",
       "    }\n",
       "\n",
       "    .dataframe thead th {\n",
       "        text-align: right;\n",
       "    }\n",
       "</style>\n",
       "<table border=\"1\" class=\"dataframe\">\n",
       "  <thead>\n",
       "    <tr style=\"text-align: right;\">\n",
       "      <th></th>\n",
       "      <th>Title</th>\n",
       "      <th>Description</th>\n",
       "    </tr>\n",
       "  </thead>\n",
       "  <tbody>\n",
       "    <tr>\n",
       "      <th>0</th>\n",
       "      <td>JUNIOR PENETRATION TESTER</td>\n",
       "      <td>JUNIOR PENETRATION TESTER\\...</td>\n",
       "    </tr>\n",
       "    <tr>\n",
       "      <th>1</th>\n",
       "      <td>Junior Penetration Tester ...</td>\n",
       "      <td>The Penetration Testing pr...</td>\n",
       "    </tr>\n",
       "    <tr>\n",
       "      <th>2</th>\n",
       "      <td>Red Team - Penetration Tester</td>\n",
       "      <td>Who are we?\\nBreachLock is...</td>\n",
       "    </tr>\n",
       "  </tbody>\n",
       "</table>\n",
       "</div>"
      ],
      "text/plain": [
       "                           Title                    Description\n",
       "0      JUNIOR PENETRATION TESTER  JUNIOR PENETRATION TESTER\\...\n",
       "1  Junior Penetration Tester ...  The Penetration Testing pr...\n",
       "2  Red Team - Penetration Tester  Who are we?\\nBreachLock is..."
      ]
     },
     "execution_count": 245,
     "metadata": {},
     "output_type": "execute_result"
    }
   ],
   "source": [
    "indeed_df.head(3)"
   ]
  },
  {
   "cell_type": "code",
   "execution_count": 246,
   "metadata": {},
   "outputs": [],
   "source": [
    "# Converting the above dataframe into dictionary for iteration {title: description}\n",
    "indeed = {}\n",
    "for (t, d) in zip(title, description): # loops through the list title and description\n",
    "    if t in indeed and t!='None': # if the job title already exists, we lump the descriptions together\n",
    "        indeed[t]+=d\n",
    "    else:\n",
    "        indeed[t] = d # sets the title as key and the description as the value\n"
   ]
  },
  {
   "cell_type": "code",
   "execution_count": 247,
   "metadata": {},
   "outputs": [],
   "source": [
    "# iterating through the Job's to tokenize into sentences/phrases\n",
    "indeed_tokenized_dict = {}\n",
    "for key in indeed:\n",
    "    if key != 'None':\n",
    "        text = indeed[key]\n",
    "        # Tokenize into sentence or phrase\n",
    "        sentence_count, s1 = get_sentence_counter(text=text)\n",
    "        indeed_tokenized_dict[key] = sentence_count\n"
   ]
  },
  {
   "cell_type": "code",
   "execution_count": 248,
   "metadata": {},
   "outputs": [
    {
     "data": {
      "text/html": [
       "<div>\n",
       "<style scoped>\n",
       "    .dataframe tbody tr th:only-of-type {\n",
       "        vertical-align: middle;\n",
       "    }\n",
       "\n",
       "    .dataframe tbody tr th {\n",
       "        vertical-align: top;\n",
       "    }\n",
       "\n",
       "    .dataframe thead th {\n",
       "        text-align: right;\n",
       "    }\n",
       "</style>\n",
       "<table border=\"1\" class=\"dataframe\">\n",
       "  <thead>\n",
       "    <tr style=\"text-align: right;\">\n",
       "      <th></th>\n",
       "      <th>0</th>\n",
       "      <th>1</th>\n",
       "      <th>2</th>\n",
       "      <th>3</th>\n",
       "      <th>4</th>\n",
       "      <th>5</th>\n",
       "      <th>6</th>\n",
       "      <th>7</th>\n",
       "      <th>8</th>\n",
       "      <th>9</th>\n",
       "      <th>...</th>\n",
       "      <th>1445</th>\n",
       "      <th>1446</th>\n",
       "      <th>1447</th>\n",
       "      <th>1448</th>\n",
       "      <th>1449</th>\n",
       "      <th>1450</th>\n",
       "      <th>1451</th>\n",
       "      <th>1452</th>\n",
       "      <th>1453</th>\n",
       "      <th>1454</th>\n",
       "    </tr>\n",
       "  </thead>\n",
       "  <tbody>\n",
       "    <tr>\n",
       "      <th>JUNIOR PENETRATION TESTER</th>\n",
       "      <td>JUNIOR PENETRATION TESTER</td>\n",
       "      <td>www.elevateconsult.com</td>\n",
       "      <td>ABOUT ELEVATE</td>\n",
       "      <td>Elevate is a premier consu...</td>\n",
       "      <td>Our team consists of self-...</td>\n",
       "      <td>We value exceptional clien...</td>\n",
       "      <td>We are looking for a motiv...</td>\n",
       "      <td>ABOUT THE POSITION</td>\n",
       "      <td>This is a contract to-hire...</td>\n",
       "      <td>Elevate is looking for a J...</td>\n",
       "      <td>...</td>\n",
       "      <td>NaN</td>\n",
       "      <td>NaN</td>\n",
       "      <td>NaN</td>\n",
       "      <td>NaN</td>\n",
       "      <td>NaN</td>\n",
       "      <td>NaN</td>\n",
       "      <td>NaN</td>\n",
       "      <td>NaN</td>\n",
       "      <td>NaN</td>\n",
       "      <td>NaN</td>\n",
       "    </tr>\n",
       "    <tr>\n",
       "      <th>Junior Penetration Tester USA Remote</th>\n",
       "      <td>The Penetration Testing pr...</td>\n",
       "      <td>The consultant would perfo...</td>\n",
       "      <td>The assessments that would...</td>\n",
       "      <td>For the remote assessments...</td>\n",
       "      <td>The consultant should be c...</td>\n",
       "      <td>The consultant should have...</td>\n",
       "      <td>Must Haves:</td>\n",
       "      <td>Background in Enterprise n...</td>\n",
       "      <td>1-3 years experience perfo...</td>\n",
       "      <td>3-5 years of experience in...</td>\n",
       "      <td>...</td>\n",
       "      <td>NaN</td>\n",
       "      <td>NaN</td>\n",
       "      <td>NaN</td>\n",
       "      <td>NaN</td>\n",
       "      <td>NaN</td>\n",
       "      <td>NaN</td>\n",
       "      <td>NaN</td>\n",
       "      <td>NaN</td>\n",
       "      <td>NaN</td>\n",
       "      <td>NaN</td>\n",
       "    </tr>\n",
       "    <tr>\n",
       "      <th>Red Team - Penetration Tester</th>\n",
       "      <td>Who are we?</td>\n",
       "      <td>BreachLock is a security s...</td>\n",
       "      <td>The BreachLock platform le...</td>\n",
       "      <td>BreachLocksâ€™s modern Saa...</td>\n",
       "      <td>As a result, CIOâ€™s and C...</td>\n",
       "      <td>The BreachLock platform fa...</td>\n",
       "      <td>Some of our achievements i...</td>\n",
       "      <td>One of the fastest-growing...</td>\n",
       "      <td>Cyber Security Innovator f...</td>\n",
       "      <td>Top 10 Vulnerability Manag...</td>\n",
       "      <td>...</td>\n",
       "      <td>NaN</td>\n",
       "      <td>NaN</td>\n",
       "      <td>NaN</td>\n",
       "      <td>NaN</td>\n",
       "      <td>NaN</td>\n",
       "      <td>NaN</td>\n",
       "      <td>NaN</td>\n",
       "      <td>NaN</td>\n",
       "      <td>NaN</td>\n",
       "      <td>NaN</td>\n",
       "    </tr>\n",
       "  </tbody>\n",
       "</table>\n",
       "<p>3 rows × 1455 columns</p>\n",
       "</div>"
      ],
      "text/plain": [
       "                                                         0     \\\n",
       "JUNIOR PENETRATION TESTER           JUNIOR PENETRATION TESTER   \n",
       "Junior Penetration Tester U...  The Penetration Testing pr...   \n",
       "Red Team - Penetration Tester                     Who are we?   \n",
       "\n",
       "                                                         1     \\\n",
       "JUNIOR PENETRATION TESTER              www.elevateconsult.com   \n",
       "Junior Penetration Tester U...  The consultant would perfo...   \n",
       "Red Team - Penetration Tester   BreachLock is a security s...   \n",
       "\n",
       "                                                         2     \\\n",
       "JUNIOR PENETRATION TESTER                       ABOUT ELEVATE   \n",
       "Junior Penetration Tester U...  The assessments that would...   \n",
       "Red Team - Penetration Tester   The BreachLock platform le...   \n",
       "\n",
       "                                                         3     \\\n",
       "JUNIOR PENETRATION TESTER       Elevate is a premier consu...   \n",
       "Junior Penetration Tester U...  For the remote assessments...   \n",
       "Red Team - Penetration Tester   BreachLocksâ€™s modern Saa...   \n",
       "\n",
       "                                                         4     \\\n",
       "JUNIOR PENETRATION TESTER       Our team consists of self-...   \n",
       "Junior Penetration Tester U...  The consultant should be c...   \n",
       "Red Team - Penetration Tester   As a result, CIOâ€™s and C...   \n",
       "\n",
       "                                                         5     \\\n",
       "JUNIOR PENETRATION TESTER       We value exceptional clien...   \n",
       "Junior Penetration Tester U...  The consultant should have...   \n",
       "Red Team - Penetration Tester   The BreachLock platform fa...   \n",
       "\n",
       "                                                         6     \\\n",
       "JUNIOR PENETRATION TESTER       We are looking for a motiv...   \n",
       "Junior Penetration Tester U...                    Must Haves:   \n",
       "Red Team - Penetration Tester   Some of our achievements i...   \n",
       "\n",
       "                                                         7     \\\n",
       "JUNIOR PENETRATION TESTER                  ABOUT THE POSITION   \n",
       "Junior Penetration Tester U...  Background in Enterprise n...   \n",
       "Red Team - Penetration Tester   One of the fastest-growing...   \n",
       "\n",
       "                                                         8     \\\n",
       "JUNIOR PENETRATION TESTER       This is a contract to-hire...   \n",
       "Junior Penetration Tester U...  1-3 years experience perfo...   \n",
       "Red Team - Penetration Tester   Cyber Security Innovator f...   \n",
       "\n",
       "                                                         9     ... 1445 1446  \\\n",
       "JUNIOR PENETRATION TESTER       Elevate is looking for a J...  ...  NaN  NaN   \n",
       "Junior Penetration Tester U...  3-5 years of experience in...  ...  NaN  NaN   \n",
       "Red Team - Penetration Tester   Top 10 Vulnerability Manag...  ...  NaN  NaN   \n",
       "\n",
       "                               1447 1448 1449 1450 1451 1452 1453 1454  \n",
       "JUNIOR PENETRATION TESTER       NaN  NaN  NaN  NaN  NaN  NaN  NaN  NaN  \n",
       "Junior Penetration Tester U...  NaN  NaN  NaN  NaN  NaN  NaN  NaN  NaN  \n",
       "Red Team - Penetration Tester   NaN  NaN  NaN  NaN  NaN  NaN  NaN  NaN  \n",
       "\n",
       "[3 rows x 1455 columns]"
      ]
     },
     "execution_count": 248,
     "metadata": {},
     "output_type": "execute_result"
    }
   ],
   "source": [
    "# Putting in dataframe with keys/job titles as titles and the values as the tokenized sentences just for visual purposes\n",
    "df_concat = pd.DataFrame()\n",
    "for k,v in indeed_tokenized_dict.items():\n",
    "    if k != 'None':\n",
    "        df = pd.DataFrame({k: v})\n",
    "        df_concat = pd.concat([df_concat, df], axis=1)\n",
    "\n",
    "df_concat.T.head(3)"
   ]
  },
  {
   "cell_type": "code",
   "execution_count": 338,
   "metadata": {},
   "outputs": [],
   "source": [
    "# shows the description\n",
    "# indeed['SOC Analyst']"
   ]
  },
  {
   "cell_type": "code",
   "execution_count": 337,
   "metadata": {},
   "outputs": [],
   "source": [
    "# shows the sentences in the description tokenized\n",
    "# indeed_tokenized_dict['SOC Analyst']"
   ]
  },
  {
   "cell_type": "code",
   "execution_count": 315,
   "metadata": {},
   "outputs": [],
   "source": [
    "# Here I will try to create 'bag of words' that could be used to identify if a sentence is refering to \n",
    "# ability, skill, knowledge or other\n",
    "bag_A = [' able ', ' ability', 'Ability ', 'abilities', 'perform']\n",
    "bag_S = ['skill', 'Skill',]\n",
    "bag_K = ['know', 'known', 'knowledge', 'Knowledge']\n",
    "\n",
    "# Helper function to check whether the flag words are present in the sentence\n",
    "def check_word(word_list,sentence):\n",
    "    for x in word_list:\n",
    "        return True if x in sentence else False"
   ]
  },
  {
   "cell_type": "code",
   "execution_count": 316,
   "metadata": {},
   "outputs": [],
   "source": [
    "# Now I will sort out the sentences into Ability, skill, knowledge or other and save it as a nested dict\n",
    "Master_indeed_dict = {}\n",
    "K,S,A, other = [],[],[], []\n",
    "for k in indeed_tokenized_dict.keys():\n",
    "    for sentence in indeed_tokenized_dict[k]:\n",
    "        if check_word(bag_K,sentence):\n",
    "            K.append(sentence)\n",
    "        elif check_word(bag_S,sentence):\n",
    "            S.append(sentence)\n",
    "        elif check_word(bag_A,sentence):\n",
    "            A.append(sentence)\n",
    "        else:\n",
    "            other.append(sentence)\n",
    "            \n",
    "    Master_indeed_dict[k] = {'K':K,\n",
    "                             'S':S,\n",
    "                             'A':A,\n",
    "                            'other': other}\n",
    "\n",
    "    "
   ]
  },
  {
   "cell_type": "code",
   "execution_count": 333,
   "metadata": {},
   "outputs": [],
   "source": [
    "# Master_indeed_dict['JUNIOR PENETRATION TESTER']['K']"
   ]
  },
  {
   "cell_type": "code",
   "execution_count": 334,
   "metadata": {},
   "outputs": [],
   "source": [
    "# Master_indeed_dict['JUNIOR PENETRATION TESTER']['S']"
   ]
  },
  {
   "cell_type": "code",
   "execution_count": 335,
   "metadata": {},
   "outputs": [],
   "source": [
    "# Master_indeed_dict['JUNIOR PENETRATION TESTER']['A']"
   ]
  },
  {
   "cell_type": "code",
   "execution_count": 336,
   "metadata": {},
   "outputs": [],
   "source": [
    "# Master_indeed_dict['JUNIOR PENETRATION TESTER']['other']"
   ]
  },
  {
   "cell_type": "code",
   "execution_count": 324,
   "metadata": {},
   "outputs": [],
   "source": [
    "# Exporting dictionary as a json file for use during sentence vectorization\n",
    "data = Master_indeed_dict\n",
    "with open('Master_indeed_dict.json', 'w') as f:\n",
    "    json.dump(data, f)"
   ]
  },
  {
   "cell_type": "code",
   "execution_count": null,
   "metadata": {},
   "outputs": [],
   "source": [
    "################################################################################\n",
    "################################################################################\n",
    "################################################################################\n",
    "# SYLLABI"
   ]
  },
  {
   "cell_type": "code",
   "execution_count": 348,
   "metadata": {},
   "outputs": [],
   "source": [
    "#working with the syllabi data from NICCS\n",
    "path = os.path.join(os.getcwd(), 'syllabi_data_niccs.csv')\n",
    "NICCS = pd.read_csv(path, encoding='cp1252')"
   ]
  },
  {
   "cell_type": "code",
   "execution_count": 350,
   "metadata": {},
   "outputs": [
    {
     "data": {
      "text/html": [
       "<div>\n",
       "<style scoped>\n",
       "    .dataframe tbody tr th:only-of-type {\n",
       "        vertical-align: middle;\n",
       "    }\n",
       "\n",
       "    .dataframe tbody tr th {\n",
       "        vertical-align: top;\n",
       "    }\n",
       "\n",
       "    .dataframe thead th {\n",
       "        text-align: right;\n",
       "    }\n",
       "</style>\n",
       "<table border=\"1\" class=\"dataframe\">\n",
       "  <thead>\n",
       "    <tr style=\"text-align: right;\">\n",
       "      <th></th>\n",
       "      <th>College or Institution</th>\n",
       "      <th>City</th>\n",
       "      <th>State</th>\n",
       "      <th>Deg</th>\n",
       "      <th>AreaofStudy</th>\n",
       "      <th>Classroom</th>\n",
       "      <th>Online</th>\n",
       "      <th>CourseTitle</th>\n",
       "      <th>Course Description</th>\n",
       "      <th>Learning Objectives</th>\n",
       "      <th>FrameworkConnections</th>\n",
       "      <th>ConnectwithSpecialtyAreas</th>\n",
       "      <th>WorkRole</th>\n",
       "      <th>WorkRoleID</th>\n",
       "      <th>WorkRoleDesc</th>\n",
       "      <th>Abilities</th>\n",
       "      <th>Knowledge</th>\n",
       "      <th>Skills</th>\n",
       "      <th>Link</th>\n",
       "    </tr>\n",
       "  </thead>\n",
       "  <tbody>\n",
       "    <tr>\n",
       "      <th>0</th>\n",
       "      <td>Kennesaw State University</td>\n",
       "      <td>Kennesaw</td>\n",
       "      <td>GA</td>\n",
       "      <td>BS</td>\n",
       "      <td>Cybersecurity</td>\n",
       "      <td>1</td>\n",
       "      <td>1</td>\n",
       "      <td>Network Configuration &amp; Ad...</td>\n",
       "      <td>Topics include design and ...</td>\n",
       "      <td>Demonstrate how to manage ...</td>\n",
       "      <td>Operate and Maintain;</td>\n",
       "      <td>Network Security</td>\n",
       "      <td>Network Operations Specialist</td>\n",
       "      <td>OM-NET-001</td>\n",
       "      <td>Plans, implement, operates...</td>\n",
       "      <td>A0052: Ability to operate ...</td>\n",
       "      <td>K0001: Knowledge of comput...</td>\n",
       "      <td>S0004: Skill in analyzing ...</td>\n",
       "      <td>https://niccs.cisa.gov/tra...</td>\n",
       "    </tr>\n",
       "    <tr>\n",
       "      <th>1</th>\n",
       "      <td>Kennesaw State University</td>\n",
       "      <td>Kennesaw</td>\n",
       "      <td>GA</td>\n",
       "      <td>BS</td>\n",
       "      <td>Cybersecurity</td>\n",
       "      <td>1</td>\n",
       "      <td>1</td>\n",
       "      <td>Wireless Security</td>\n",
       "      <td>Topics include Security an...</td>\n",
       "      <td>Describe the differences b...</td>\n",
       "      <td>Operate and Maintain</td>\n",
       "      <td>Network Security</td>\n",
       "      <td>Network Operations Specialist</td>\n",
       "      <td>OM-NET-001</td>\n",
       "      <td>Plans, implement, operates...</td>\n",
       "      <td>A0052: Ability to operate ...</td>\n",
       "      <td>K0001: Knowledge of comput...</td>\n",
       "      <td>S0004: Skill in analyzing ...</td>\n",
       "      <td>https://niccs.cisa.gov/tra...</td>\n",
       "    </tr>\n",
       "    <tr>\n",
       "      <th>2</th>\n",
       "      <td>Kennesaw State University</td>\n",
       "      <td>Kennesaw</td>\n",
       "      <td>GA</td>\n",
       "      <td>BS</td>\n",
       "      <td>Cybersecurity</td>\n",
       "      <td>1</td>\n",
       "      <td>1</td>\n",
       "      <td>Wireless Security</td>\n",
       "      <td>Topics include Security an...</td>\n",
       "      <td>Describe the differences b...</td>\n",
       "      <td>Oversee and Govern</td>\n",
       "      <td>Cybersecurity Management</td>\n",
       "      <td>Communications Security (C...</td>\n",
       "      <td>OV-MGT-002</td>\n",
       "      <td>Individual who manages com...</td>\n",
       "      <td>A0162: Ability to recogniz...</td>\n",
       "      <td>K0001: Knowledge of comput...</td>\n",
       "      <td>S0027: Skill in determinin...</td>\n",
       "      <td>https://niccs.cisa.gov/tra...</td>\n",
       "    </tr>\n",
       "    <tr>\n",
       "      <th>3</th>\n",
       "      <td>Kennesaw State University</td>\n",
       "      <td>Kennesaw</td>\n",
       "      <td>GA</td>\n",
       "      <td>BS</td>\n",
       "      <td>Cybersecurity</td>\n",
       "      <td>1</td>\n",
       "      <td>1</td>\n",
       "      <td>Ethical Hacking for Effect...</td>\n",
       "      <td>This course focuses on det...</td>\n",
       "      <td>Identify what an ethical h...</td>\n",
       "      <td>Analyze; Operate and Maint...</td>\n",
       "      <td>Cyberdefense Analysis</td>\n",
       "      <td>Cyber Defense Analyst</td>\n",
       "      <td>PR-CDA-001</td>\n",
       "      <td>Uses data collected from a...</td>\n",
       "      <td>A0010: Ability to analyze ...</td>\n",
       "      <td>K0001: Knowledge of comput...</td>\n",
       "      <td>S0020: Skill in developing...</td>\n",
       "      <td>https://niccs.cisa.gov/tra...</td>\n",
       "    </tr>\n",
       "    <tr>\n",
       "      <th>4</th>\n",
       "      <td>Kennesaw State University</td>\n",
       "      <td>Kennesaw</td>\n",
       "      <td>GA</td>\n",
       "      <td>BS</td>\n",
       "      <td>Cybersecurity</td>\n",
       "      <td>1</td>\n",
       "      <td>1</td>\n",
       "      <td>Ethical Hacking for Effect...</td>\n",
       "      <td>This course focuses on det...</td>\n",
       "      <td>Identify what an ethical h...</td>\n",
       "      <td>Analyze; Operate and Maint...</td>\n",
       "      <td>Explotaition Analysis</td>\n",
       "      <td>Explotaition Analysis</td>\n",
       "      <td>AN-EXP-001</td>\n",
       "      <td>Collaborates to identify a...</td>\n",
       "      <td>A0013: Ability to communic...</td>\n",
       "      <td>K0001: Knowledge of comput...</td>\n",
       "      <td>S0066: Skill in identifyin...</td>\n",
       "      <td>https://niccs.cisa.gov/tra...</td>\n",
       "    </tr>\n",
       "  </tbody>\n",
       "</table>\n",
       "</div>"
      ],
      "text/plain": [
       "      College or Institution       City State Deg    AreaofStudy  Classroom  \\\n",
       "0  Kennesaw State University  Kennesaw     GA  BS  Cybersecurity          1   \n",
       "1  Kennesaw State University  Kennesaw     GA  BS  Cybersecurity          1   \n",
       "2  Kennesaw State University  Kennesaw     GA  BS  Cybersecurity          1   \n",
       "3  Kennesaw State University  Kennesaw     GA  BS  Cybersecurity          1   \n",
       "4  Kennesaw State University  Kennesaw     GA  BS  Cybersecurity          1   \n",
       "\n",
       "   Online                    CourseTitle             Course Description  \\\n",
       "0       1  Network Configuration & Ad...  Topics include design and ...   \n",
       "1       1              Wireless Security  Topics include Security an...   \n",
       "2       1              Wireless Security  Topics include Security an...   \n",
       "3       1  Ethical Hacking for Effect...  This course focuses on det...   \n",
       "4       1  Ethical Hacking for Effect...  This course focuses on det...   \n",
       "\n",
       "             Learning Objectives           FrameworkConnections  \\\n",
       "0  Demonstrate how to manage ...          Operate and Maintain;   \n",
       "1  Describe the differences b...           Operate and Maintain   \n",
       "2  Describe the differences b...             Oversee and Govern   \n",
       "3  Identify what an ethical h...  Analyze; Operate and Maint...   \n",
       "4  Identify what an ethical h...  Analyze; Operate and Maint...   \n",
       "\n",
       "  ConnectwithSpecialtyAreas                       WorkRole  WorkRoleID  \\\n",
       "0          Network Security  Network Operations Specialist  OM-NET-001   \n",
       "1          Network Security  Network Operations Specialist  OM-NET-001   \n",
       "2  Cybersecurity Management  Communications Security (C...  OV-MGT-002   \n",
       "3     Cyberdefense Analysis          Cyber Defense Analyst  PR-CDA-001   \n",
       "4     Explotaition Analysis          Explotaition Analysis  AN-EXP-001   \n",
       "\n",
       "                    WorkRoleDesc                      Abilities  \\\n",
       "0  Plans, implement, operates...  A0052: Ability to operate ...   \n",
       "1  Plans, implement, operates...  A0052: Ability to operate ...   \n",
       "2  Individual who manages com...  A0162: Ability to recogniz...   \n",
       "3  Uses data collected from a...  A0010: Ability to analyze ...   \n",
       "4  Collaborates to identify a...  A0013: Ability to communic...   \n",
       "\n",
       "                       Knowledge                         Skills  \\\n",
       "0  K0001: Knowledge of comput...  S0004: Skill in analyzing ...   \n",
       "1  K0001: Knowledge of comput...  S0004: Skill in analyzing ...   \n",
       "2  K0001: Knowledge of comput...  S0027: Skill in determinin...   \n",
       "3  K0001: Knowledge of comput...  S0020: Skill in developing...   \n",
       "4  K0001: Knowledge of comput...  S0066: Skill in identifyin...   \n",
       "\n",
       "                            Link  \n",
       "0  https://niccs.cisa.gov/tra...  \n",
       "1  https://niccs.cisa.gov/tra...  \n",
       "2  https://niccs.cisa.gov/tra...  \n",
       "3  https://niccs.cisa.gov/tra...  \n",
       "4  https://niccs.cisa.gov/tra...  "
      ]
     },
     "execution_count": 350,
     "metadata": {},
     "output_type": "execute_result"
    }
   ],
   "source": [
    "NICCS.head(5)"
   ]
  },
  {
   "cell_type": "code",
   "execution_count": 351,
   "metadata": {},
   "outputs": [],
   "source": [
    "# Converting Columns needed to list for easier itteration\n",
    "CourseTitle = NICCS['CourseTitle'].to_list()\n",
    "WorkRole = NICCS['WorkRole'].to_list()\n",
    "WorkRoleID = NICCS['WorkRoleID'].to_list()\n",
    "Tasks = NICCS['WorkRoleDesc'].to_list()\n",
    "Knowledge = NICCS['Knowledge'].to_list()\n",
    "Skill = NICCS['Skills'].to_list()\n",
    "Ability = NICCS['Abilities'].to_list()"
   ]
  },
  {
   "cell_type": "code",
   "execution_count": 362,
   "metadata": {},
   "outputs": [],
   "source": [
    "# Saving each KSA under each work role as a nested dictionary\n",
    "Syllabi_dict = {}\n",
    "pattern = '[S|A|K][0-9]+[\\S][\\s]'\n",
    "for i,WR in enumerate(WorkRole):\n",
    "    if WR not in Syllabi_dict.keys(): # Avoiding duplicates\n",
    "        # splitting to get each KSA & IDs, while also removing the A####,K####, S#### tags\n",
    "        K = re.sub(pattern, '', Knowledge[i]).split(\";\") \n",
    "        S = re.sub(pattern, '', Skill[i]).split(\";\")\n",
    "        A = re.sub(pattern, '', Ability[i]).split(\";\")\n",
    "        Syllabi_dict[WR] = {'ID': WorkRoleID[i], \n",
    "                             'K': K, \n",
    "                             'S': S, \n",
    "                             'A': A} #Saving as a nested dict"
   ]
  },
  {
   "cell_type": "code",
   "execution_count": 361,
   "metadata": {},
   "outputs": [],
   "source": [
    "# Master_indeed_dict['Entry-Level Cyber Defense Analyst']['S']"
   ]
  },
  {
   "cell_type": "code",
   "execution_count": 365,
   "metadata": {},
   "outputs": [],
   "source": [
    "# Syllabi_dict['Cyber Defense Analyst']['S']"
   ]
  },
  {
   "cell_type": "code",
   "execution_count": 150,
   "metadata": {},
   "outputs": [],
   "source": [
    "# Exporting dictionary as a json file for use during sentence vectorization\n",
    "data = Syllabi_dict\n",
    "with open('syllabi_NICCS.json', 'w') as f:\n",
    "    json.dump(data, f)"
   ]
  },
  {
   "cell_type": "code",
   "execution_count": null,
   "metadata": {},
   "outputs": [],
   "source": [
    "################################################################################\n",
    "################################################################################\n",
    "################################################################################\n",
    "# Certs"
   ]
  },
  {
   "cell_type": "code",
   "execution_count": 161,
   "metadata": {},
   "outputs": [],
   "source": [
    "#working with the Certificate data from NICCS\n",
    "path = os.path.join(os.getcwd(),'cert_list.xlsx' )\n",
    "Certs = pd.read_excel(path) "
   ]
  },
  {
   "cell_type": "code",
   "execution_count": 234,
   "metadata": {},
   "outputs": [
    {
     "data": {
      "text/html": [
       "<div>\n",
       "<style scoped>\n",
       "    .dataframe tbody tr th:only-of-type {\n",
       "        vertical-align: middle;\n",
       "    }\n",
       "\n",
       "    .dataframe tbody tr th {\n",
       "        vertical-align: top;\n",
       "    }\n",
       "\n",
       "    .dataframe thead th {\n",
       "        text-align: right;\n",
       "    }\n",
       "</style>\n",
       "<table border=\"1\" class=\"dataframe\">\n",
       "  <thead>\n",
       "    <tr style=\"text-align: right;\">\n",
       "      <th></th>\n",
       "      <th>Cert Name</th>\n",
       "      <th>Cost</th>\n",
       "      <th>Time (hrs)</th>\n",
       "      <th>Avg Salary of Recipient</th>\n",
       "      <th>Number of Holders</th>\n",
       "      <th>Knowledge</th>\n",
       "      <th>Skills</th>\n",
       "      <th>Abilities</th>\n",
       "    </tr>\n",
       "  </thead>\n",
       "  <tbody>\n",
       "    <tr>\n",
       "      <th>0</th>\n",
       "      <td>CISSP (Certified Informati...</td>\n",
       "      <td>699</td>\n",
       "      <td>40-50</td>\n",
       "      <td>122138.0</td>\n",
       "      <td>92976.0</td>\n",
       "      <td>K0001: Knowledge of comput...</td>\n",
       "      <td>S0011: Skill in conducting...</td>\n",
       "      <td>A0002: Ability to match th...</td>\n",
       "    </tr>\n",
       "    <tr>\n",
       "      <th>1</th>\n",
       "      <td>CISA (Certified Informatio...</td>\n",
       "      <td>595</td>\n",
       "      <td>112</td>\n",
       "      <td>132278.0</td>\n",
       "      <td>150000.0</td>\n",
       "      <td>K0001: Knowledge of comput...</td>\n",
       "      <td>S0027: Skill in determinin...</td>\n",
       "      <td>A0162: Ability to recogniz...</td>\n",
       "    </tr>\n",
       "    <tr>\n",
       "      <th>2</th>\n",
       "      <td>CISM (Certified Informatio...</td>\n",
       "      <td>760</td>\n",
       "      <td>40-50</td>\n",
       "      <td>148622.0</td>\n",
       "      <td>50000.0</td>\n",
       "      <td>K0001: Knowledge of comput...</td>\n",
       "      <td>S0027: Skill in determinin...</td>\n",
       "      <td>A0162: Ability to recogniz...</td>\n",
       "    </tr>\n",
       "    <tr>\n",
       "      <th>3</th>\n",
       "      <td>Security+</td>\n",
       "      <td>370</td>\n",
       "      <td>45</td>\n",
       "      <td>72244.0</td>\n",
       "      <td>500000.0</td>\n",
       "      <td>K0001: Knowledge of comput...</td>\n",
       "      <td>S0020: Skill in developing...</td>\n",
       "      <td>A0010: Ability to analyze ...</td>\n",
       "    </tr>\n",
       "    <tr>\n",
       "      <th>4</th>\n",
       "      <td>CEH (Certified Ethical Hac...</td>\n",
       "      <td>1199</td>\n",
       "      <td>70-75</td>\n",
       "      <td>104813.0</td>\n",
       "      <td>79617.0</td>\n",
       "      <td>K0001: Knowledge of comput...</td>\n",
       "      <td>S0005: Skill in applying a...</td>\n",
       "      <td>A0008: Ability to apply th...</td>\n",
       "    </tr>\n",
       "  </tbody>\n",
       "</table>\n",
       "</div>"
      ],
      "text/plain": [
       "                       Cert Name  Cost Time (hrs)  Avg Salary of Recipient  \\\n",
       "0  CISSP (Certified Informati...   699      40-50                 122138.0   \n",
       "1  CISA (Certified Informatio...   595        112                 132278.0   \n",
       "2  CISM (Certified Informatio...   760      40-50                 148622.0   \n",
       "3                      Security+   370         45                  72244.0   \n",
       "4  CEH (Certified Ethical Hac...  1199      70-75                 104813.0   \n",
       "\n",
       "   Number of Holders                      Knowledge  \\\n",
       "0            92976.0  K0001: Knowledge of comput...   \n",
       "1           150000.0  K0001: Knowledge of comput...   \n",
       "2            50000.0  K0001: Knowledge of comput...   \n",
       "3           500000.0  K0001: Knowledge of comput...   \n",
       "4            79617.0  K0001: Knowledge of comput...   \n",
       "\n",
       "                          Skills                     Abilities   \n",
       "0  S0011: Skill in conducting...  A0002: Ability to match th...  \n",
       "1  S0027: Skill in determinin...  A0162: Ability to recogniz...  \n",
       "2  S0027: Skill in determinin...  A0162: Ability to recogniz...  \n",
       "3  S0020: Skill in developing...  A0010: Ability to analyze ...  \n",
       "4  S0005: Skill in applying a...  A0008: Ability to apply th...  "
      ]
     },
     "execution_count": 234,
     "metadata": {},
     "output_type": "execute_result"
    }
   ],
   "source": [
    "Certs.head(5)"
   ]
  },
  {
   "cell_type": "code",
   "execution_count": 185,
   "metadata": {},
   "outputs": [],
   "source": [
    "cert_name = Certs['Cert Name'].to_list()\n",
    "c_K = Certs['Knowledge'].to_list()\n",
    "c_S = Certs['Skills'].to_list()\n",
    "c_A = Certs['Abilities '].to_list()"
   ]
  },
  {
   "cell_type": "code",
   "execution_count": 237,
   "metadata": {},
   "outputs": [],
   "source": [
    "# Saving each KSA under each Cert as a nested dictionary\n",
    "Cert_dict = {}\n",
    "pattern = '[S|A|K][0-9]+[\\S][\\s]'\n",
    "for i,cert in enumerate(cert_name):\n",
    "    if cert not in Cert_dict.keys(): # Avoiding duplicates\n",
    "        K = 'None' if pd.isna(c_K[i]) else re.sub(pattern, '', c_K[i]).split(\"\\n\")\n",
    "        S = 'None' if pd.isna(c_S[i]) else re.sub(pattern, '', c_S[i]).split(\"\\n\")\n",
    "        A = 'None' if pd.isna(c_A[i]) else re.sub(pattern, '', c_A[i]).split(\"\\n\")\n",
    "\n",
    "        Cert_dict[cert] = {'K': K, \n",
    "                           'S': S, \n",
    "                           'A': A} #Saving as a nested dict"
   ]
  },
  {
   "cell_type": "code",
   "execution_count": 239,
   "metadata": {},
   "outputs": [
    {
     "data": {
      "text/plain": [
       "dict_keys(['CISSP (Certified Information Systems Security Professional)', 'CISA (Certified Information Systems Auditor)', 'CISM (Certified Information Security Manager)', 'Security+', 'CEH (Certified Ethical Hacker)', 'GSEC (GIAC Security Essentials Certification)', 'SSCP (Systems Security Certified Practitioner)', 'CASP (CompTIA Advanced Security Practitioner)', 'GCIH (GIAC Certified Incident Handler)', 'OSCP (Offensive Security Professional)', 'CRISC (Certified in Risk and Information Systems Control)', 'AWS Certified Security', 'CCSP (Certified Cloud Security Professional)', 'CySA (Cybersecurity Analyst)', 'PCSE (Google Cloud Certified, Professional Cloud Security Engineer) ', 'HCISPP (HealthCare Information Security and Privacy Practitioner)', 'CopmTIA Pen Test+', 'CCSK (Certificate of Cloud Security Knowledge)', 'ECSA (EC-Certified Security Analyst)', 'GPEN (GIAC Penetration Tester)', 'CCFP (Certified Cyber Forensics Professional)', 'CAP (Certified Authorized Professionals)', 'CCS (Cisco Cybersecurity Specialist)', 'CCNA (Cisco Certified Network Administrator)', 'JNCIP (Juniper Networks Certified Professional Security)', 'CIPM (Certified Information Privacy Manager)', 'CCISO (Certified Chief Information Security Officer)', 'GSE (GIAC Security Expert)', 'GCFA (GIAC Certified Forensics Analyst)', 'GICSP (GIAC Industrial Cyber Security Professionals)', 'GCIA (GIAC Certified Intrusion Analyst)', 'GSLC (GIAC Security Leadership Certification)', 'CCNP (Cisco Certified Network Professional)', 'CCSP (Cisco Certified Security Professional)', 'CIPP (Certified Information Privacy Professionals)', 'CSSLP (Certified Secure Software Lifecycle Professional)', 'ITPM (Insider Threat Program Manager)', 'ITVA (Insider Threat Vulnerability Assessment)', 'ITPE (Insider Threat Program Evaluator)', 'CND (Certified Network Defender)', 'CNDA (Certified Network Defense Architect)', 'ECES (Certified Encryption Specialist)', 'CHFI (Computer Hacking Forensic Investigator)', 'LPT (Licensed Penetration Tester)', 'ECSP (Certified Secure Programmer)', 'EDRP (Disaster Recovery Professionals)', 'CSCU (Certified Secure Computer User)', 'ECSS (Certified Security Specialist)', 'CEPT (Certified Expert Penetration Tester)', 'CASS (Certified Application Security Specialist)', 'CSSA ( Certified SCADA Security Architect)', 'CREA (Certified Reverse Engineering Analyst)', 'CPT (Certified Penetration Tester)', 'CDRP (Certified Data Recovery Professionals)', 'CCFE (Certified Computer Forensics Examiner)', 'CGEIT (Certified in the Governance of Enterprise IT)', 'CSX, CSX-P (Cybersecurity Nexus)', 'CCII (Certified Cyber Intelligence Investigator)', 'CCTA (Certified Counter Intelligence Threat Analyst)', 'CCIP (Certified Cyber Intelligence Professional)', 'CECI (Certified Expert in Cyber Investigations)', 'SMIA (Certified Social Media Intelligence Analyst)', 'CSMIE (Certified Social Media Intelligence Expert)', 'OSCP (Offensive Security Certified Professional)', 'OSWP (Offensive Security Wireless Professional)', 'OSCE (Offensive Security Certified Expert)', 'OSEE (Offensive Security Exploitation Expert)', 'OSWE (Offensive Security Web Expert)', 'CISSO (Certified Information Systems Security Officer)', 'CPTE (Certified Penetration Testing Engineer)', 'CPTC (Certified Penetration Testing Consultant)', 'CDRE (Certified Disaster Recovery Engineer)', 'CDFE (Certified Digital Forensics Examiner)', 'CNFE (Certified Network Forensics Examiner)', 'CSWAE (Certified Secure Web Applications Engineer)', 'CSWAC (Certified Secure Web Applications Consultant)', 'CIHE (Certified Incident Handling Engineer)', 'CWSE (Certified Wireless Security Engineer)', 'CVA (Certified Vulnerability Assessor)', 'CSLO (Certified Security Leadership Officer)', 'CPEH (Certified Professional Ethical Hacker)', 'CISSM (Certified Information Systems Security Manager)', 'CISSA (Certified Information Systems Security Auditor)', 'CISRM (Certified Information Systems Risk Manager)', 'ISCAP (Information Systems Certification and Accreditation Professional)', 'CSP (Certified Security Principles)', 'CSAP (Certified Security Awareness Principles)', 'CVE (Certified Virtualization Engineer)', 'CVSE (Certified Virtualization Security Engineer)', 'CCSC (Certified Cloud Security Consultant)', 'CVDE (Certified Virtual Desktop Engineer)', 'CISS (Certified IPv6 Security Specialist)', 'CVFE (Certified Virtualization Forensics Examiner)', 'CCSO (Certified Cloud Security Officer)', 'CVCP (Certified Virtualization and Cloud Principles)', 'CISMS-LA (Certified Information Security Management Systems Lead Auditor)', 'CISMS-LI (Certified Information Security Management Systems Lead Implementer)'])"
      ]
     },
     "execution_count": 239,
     "metadata": {},
     "output_type": "execute_result"
    }
   ],
   "source": [
    "Cert_dict.keys()"
   ]
  },
  {
   "cell_type": "code",
   "execution_count": 264,
   "metadata": {},
   "outputs": [
    {
     "data": {
      "text/plain": [
       "['Ability to recognize the unique aspects of the Communications Security (COMSEC) environment and hierarchy. ',\n",
       " 'Ability to interpret Communications Security (COMSEC) terminology, guidelines and procedures. ',\n",
       " 'Ability to identify the roles and responsibilities for appointed Communications Security (COMSEC) personnel. ',\n",
       " 'Ability to manage Communications Security (COMSEC) material accounting, control and use procedure. ',\n",
       " 'Ability to identify types of Communications Security (COMSEC) Incidents and how they’re reported ',\n",
       " 'Ability to recognize the importance of auditing Communications Security (COMSEC) material and accounts. ',\n",
       " 'Ability to Identify the requirements of In-Process accounting for Communications Security (COMSEC) ',\n",
       " 'Ability to recognize the unique aspects of the Communications Security (COMSEC) environment and hierarchy.']"
      ]
     },
     "execution_count": 264,
     "metadata": {},
     "output_type": "execute_result"
    }
   ],
   "source": [
    "Cert_dict['CISA (Certified Information Systems Auditor)']['A']"
   ]
  },
  {
   "cell_type": "code",
   "execution_count": 238,
   "metadata": {},
   "outputs": [],
   "source": [
    "# Exporting dictionary as a json file for use during sentence vectorization\n",
    "data = Cert_dict\n",
    "with open('Certs.json', 'w') as f:\n",
    "    json.dump(data, f)"
   ]
  },
  {
   "cell_type": "code",
   "execution_count": null,
   "metadata": {},
   "outputs": [],
   "source": []
  }
 ],
 "metadata": {
  "kernelspec": {
   "display_name": "Python 3 (ipykernel)",
   "language": "python",
   "name": "python3"
  },
  "language_info": {
   "codemirror_mode": {
    "name": "ipython",
    "version": 3
   },
   "file_extension": ".py",
   "mimetype": "text/x-python",
   "name": "python",
   "nbconvert_exporter": "python",
   "pygments_lexer": "ipython3",
   "version": "3.9.7"
  }
 },
 "nbformat": 4,
 "nbformat_minor": 2
}
