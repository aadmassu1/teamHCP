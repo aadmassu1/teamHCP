{
 "cells": [
  {
   "cell_type": "code",
   "execution_count": 34,
   "metadata": {},
   "outputs": [],
   "source": [
    "# # Installing necessary dependencies\n",
    "import sys\n",
    "# !conda install --yes --prefix {sys.prefix} PIL\n",
    "# # !{sys.executable} -m pip install ____\n",
    "\n",
    "\n",
    "# !{sys.executable} -m pip install pytesseract\n",
    "# !{sys.executable} -m pip install pillow\n",
    "# !{sys.executable} -m pip install python-poppler\n",
    "# !{sys.executable} -m pip install opencv-python\n",
    "# !{sys.executable} -m pip install --upgrade pip\n",
    "# !conda install -c conda-forge poppler\n",
    "\n"
   ]
  },
  {
   "cell_type": "code",
   "execution_count": 35,
   "metadata": {},
   "outputs": [],
   "source": [
    "# import PyPDF2\n",
    "# import re\n",
    "# import win32com.client\n",
    "# from win32com.client.dynamic import Dispatch\n",
    "import os\n",
    "from pdf2image import convert_from_path\n",
    "# import pandas as pd\n",
    "try:\n",
    "    from PIL import Image\n",
    "except ImportError:\n",
    "    import Image\n",
    "# import numpy as np\n",
    "import pytesseract\n",
    "import os\n",
    "\n",
    "pytesseract.pytesseract.tesseract_cmd = 'C:\\\\Program Files\\\\Tesseract-OCR\\\\tesseract.exe'"
   ]
  },
  {
   "cell_type": "code",
   "execution_count": 37,
   "metadata": {},
   "outputs": [],
   "source": [
    "\n",
    "# FUnction to extract words from a pdf and save it in as a text file\n",
    "\n",
    "def pdf_2_txt(path):          \n",
    "    for file in os.listdir(path): # goes through the folders'\n",
    "        if file.endswith('.pdf'): # finds pdfs\n",
    "            p = os.path.join(path,file) # grabs path of pdf\n",
    "            pdfpages = convert_from_path(p, 500) # Converting each page in the pdf into image file with 500 dpi\n",
    "            image_counter = 1\n",
    "            for page in pdfpages:\n",
    "                filename = f\"page_{image_counter}.jpg\"\n",
    "                # Save the image of the page in system\n",
    "                page.save(filename, 'JPEG')\n",
    "                image_counter+=1\n",
    "                text = str(((pytesseract.image_to_string(Image.open(filename))))) # takes image and process into text\n",
    "                text = text.replace('-\\n', '') # some text processing\n",
    "                # delete image\n",
    "                os.remove(filename)\n",
    "\n",
    "                filename = filename.replace('.jpg','') # Naming\n",
    "                with open(f'{filename}.txt', 'w+') as f: # Opens a text file and writes the characters onto\n",
    "                    print(text, file=f)\n",
    "                    print(f'Page_{image_counter}.txt has been saved into {os.getcwd()}')\n",
    "                \n",
    "    return\n",
    "                    \n",
    "                \n",
    "        \n"
   ]
  },
  {
   "cell_type": "code",
   "execution_count": 42,
   "metadata": {},
   "outputs": [
    {
     "name": "stdout",
     "output_type": "stream",
     "text": [
      "Page_2.txt has been saved into C:\\Users\\15713\\Desktop\n",
      "Page_3.txt has been saved into C:\\Users\\15713\\Desktop\n",
      "Page_4.txt has been saved into C:\\Users\\15713\\Desktop\n",
      "Page_5.txt has been saved into C:\\Users\\15713\\Desktop\n",
      "Page_6.txt has been saved into C:\\Users\\15713\\Desktop\n",
      "Page_7.txt has been saved into C:\\Users\\15713\\Desktop\n",
      "Page_8.txt has been saved into C:\\Users\\15713\\Desktop\n",
      "Page_9.txt has been saved into C:\\Users\\15713\\Desktop\n",
      "Page_10.txt has been saved into C:\\Users\\15713\\Desktop\n",
      "Page_11.txt has been saved into C:\\Users\\15713\\Desktop\n"
     ]
    }
   ],
   "source": [
    "\n",
    "# path = os.path.join(os.getcwd(),'syllabus.pdf')\n",
    "path = os.getcwd()\n",
    "pdf_2_txt(path)\n",
    "# pages = convert_from_path(path, 500) \n",
    "# for page in pages:\n",
    "#     page.save('test.jpg')"
   ]
  },
  {
   "cell_type": "code",
   "execution_count": null,
   "metadata": {},
   "outputs": [],
   "source": []
  },
  {
   "cell_type": "code",
   "execution_count": null,
   "metadata": {},
   "outputs": [],
   "source": []
  },
  {
   "cell_type": "code",
   "execution_count": null,
   "metadata": {},
   "outputs": [],
   "source": []
  },
  {
   "cell_type": "code",
   "execution_count": null,
   "metadata": {},
   "outputs": [],
   "source": []
  },
  {
   "cell_type": "code",
   "execution_count": null,
   "metadata": {},
   "outputs": [],
   "source": []
  },
  {
   "cell_type": "code",
   "execution_count": null,
   "metadata": {},
   "outputs": [],
   "source": []
  }
 ],
 "metadata": {
  "kernelspec": {
   "display_name": "Python 3 (ipykernel)",
   "language": "python",
   "name": "python3"
  },
  "language_info": {
   "codemirror_mode": {
    "name": "ipython",
    "version": 3
   },
   "file_extension": ".py",
   "mimetype": "text/x-python",
   "name": "python",
   "nbconvert_exporter": "python",
   "pygments_lexer": "ipython3",
   "version": "3.9.7"
  }
 },
 "nbformat": 4,
 "nbformat_minor": 2
}
